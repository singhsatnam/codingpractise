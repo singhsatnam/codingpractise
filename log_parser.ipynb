{
 "cells": [
  {
   "cell_type": "code",
   "execution_count": null,
   "metadata": {},
   "outputs": [],
   "source": [
    "import os\n",
    "dir = \"\"\n",
    "evalStr = \"hobbit evaluate\"\n",
    "predStr = \"hobbit predict\"\n",
    "evalSum = 0\n",
    "evalCount = 0\n",
    "predSum = 0\n",
    "predCount = 0\n",
    "for root, dirs, files in os.walk(dir):\n",
    "    for file in files:\n",
    "        if(file.endswith(\".log\")):\n",
    "            f = open(file)\n",
    "            for line in f:\n",
    "                if(evalStr in line):\n",
    "                    print(\"eval for \", line)\n",
    "                    evalSum += int(line.split(\" \")[-1])\n",
    "                    evalCount += 1\n",
    "                elif(predStr in line):\n",
    "                    print(\"pred for \", line)\n",
    "                    predSum += int(line.split(\" \")[-1])\n",
    "                    predCount += 1\n",
    "            print(f.name, \": evalAvg:\", (evalSum/evalCount), \"; predAvg:\", (predSum/predCount))\n",
    "\n",
    "                    \n",
    "            \n"
   ]
  },
  {
   "cell_type": "code",
   "execution_count": null,
   "metadata": {},
   "outputs": [],
   "source": []
  },
  {
   "cell_type": "code",
   "execution_count": null,
   "metadata": {},
   "outputs": [],
   "source": []
  }
 ],
 "metadata": {
  "kernelspec": {
   "display_name": "Python 3",
   "language": "python",
   "name": "python3"
  },
  "language_info": {
   "codemirror_mode": {
    "name": "ipython",
    "version": 3
   },
   "file_extension": ".py",
   "mimetype": "text/x-python",
   "name": "python",
   "nbconvert_exporter": "python",
   "pygments_lexer": "ipython3",
   "version": "3.7.6"
  }
 },
 "nbformat": 4,
 "nbformat_minor": 4
}
