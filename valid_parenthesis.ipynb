{
 "cells": [
  {
   "cell_type": "code",
   "execution_count": 12,
   "metadata": {},
   "outputs": [
    {
     "name": "stdout",
     "output_type": "stream",
     "text": [
      "{[]}\n",
      "0 3\n",
      "{   }\n",
      "opposite:  {\n",
      "[   ]\n",
      "opposite:  [\n",
      "True\n",
      "{[{])\n",
      "0 4\n",
      "{   )\n",
      "opposite:  (\n",
      "False\n"
     ]
    }
   ],
   "source": [
    "class Solution:\n",
    "    def isValid(self, s: str) -> bool:\n",
    "        print(s)\n",
    "        l = 0\n",
    "        r = len(s) - 1\n",
    "        print(l, r)\n",
    "        opposite = {\n",
    "            \"{\": \"}\",\n",
    "            \"}\": \"{\",\n",
    "            \"[\": \"]\",\n",
    "            \"]\": \"[\",\n",
    "            \"(\": \")\",\n",
    "            \")\": \"(\"\n",
    "        }\n",
    "        while(l <= r):\n",
    "            print(s[l], \" \", s[r])\n",
    "            print(\"opposite: \", opposite[s[r]])\n",
    "            if(s[l] != opposite[s[r]]): return False\n",
    "            l += 1\n",
    "            r -= 1\n",
    "        return True\n",
    "        \n",
    "        \n",
    "solution = Solution()\n",
    "print(solution.isValid(\"{[]}\"))\n",
    "print(solution.isValid(\"{[{])\"))"
   ]
  },
  {
   "cell_type": "code",
   "execution_count": null,
   "metadata": {},
   "outputs": [],
   "source": []
  }
 ],
 "metadata": {
  "kernelspec": {
   "display_name": "Python 3",
   "language": "python",
   "name": "python3"
  },
  "language_info": {
   "codemirror_mode": {
    "name": "ipython",
    "version": 3
   },
   "file_extension": ".py",
   "mimetype": "text/x-python",
   "name": "python",
   "nbconvert_exporter": "python",
   "pygments_lexer": "ipython3",
   "version": "3.7.6"
  }
 },
 "nbformat": 4,
 "nbformat_minor": 4
}
