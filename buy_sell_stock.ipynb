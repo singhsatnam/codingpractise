{
 "cells": [
  {
   "cell_type": "code",
   "execution_count": 6,
   "metadata": {},
   "outputs": [
    {
     "name": "stdout",
     "output_type": "stream",
     "text": [
      "l:  0  r:  5\n",
      "curPrice: -3\n",
      "l-r:  -3\n",
      "0\n",
      "more\n",
      "l:  1  r:  5\n",
      "curPrice: 3\n",
      "l-r:  3\n",
      "3\n",
      "less\n",
      "l:  1  r:  4\n",
      "curPrice: 5\n",
      "l-r:  5\n",
      "5\n",
      "less\n",
      "l:  1  r:  3\n",
      "curPrice: 2\n",
      "l-r:  2\n",
      "5\n",
      "less\n",
      "l:  1  r:  2\n",
      "curPrice: 4\n",
      "l-r:  4\n",
      "5\n",
      "less\n",
      "Final max:  5\n"
     ]
    },
    {
     "data": {
      "text/plain": [
       "5"
      ]
     },
     "execution_count": 6,
     "metadata": {},
     "output_type": "execute_result"
    }
   ],
   "source": [
    "from typing import List\n",
    "\n",
    "class Solution:\n",
    "    def maxProfit(self, prices: List[int]) -> int:\n",
    "        size = len(prices)\n",
    "        l = 0\n",
    "        r = size - 1\n",
    "        max = 0\n",
    "        while(l!=r):\n",
    "            print(\"l: \", l, \" r: \", r)\n",
    "            cur = prices[r] - prices[l]\n",
    "            print(\"curPrice:\", cur)\n",
    "            print(\"l-r: \", cur)\n",
    "            max = max if max > cur else cur\n",
    "            print(max)\n",
    "            if(prices[l] > prices[r]):\n",
    "                print(\"more\")\n",
    "                l += 1\n",
    "            else:\n",
    "                print(\"less\")\n",
    "                r -= 1\n",
    "        print(\"Final max: \", max)\n",
    "        return max\n",
    "    \n",
    "solution = Solution()\n",
    "solution.maxProfit([7,1,5,3,6,4])"
   ]
  },
  {
   "cell_type": "code",
   "execution_count": null,
   "metadata": {},
   "outputs": [],
   "source": []
  }
 ],
 "metadata": {
  "kernelspec": {
   "display_name": "Python 3",
   "language": "python",
   "name": "python3"
  },
  "language_info": {
   "codemirror_mode": {
    "name": "ipython",
    "version": 3
   },
   "file_extension": ".py",
   "mimetype": "text/x-python",
   "name": "python",
   "nbconvert_exporter": "python",
   "pygments_lexer": "ipython3",
   "version": "3.7.6"
  }
 },
 "nbformat": 4,
 "nbformat_minor": 4
}
