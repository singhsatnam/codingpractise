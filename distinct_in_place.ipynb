{
 "cells": [
  {
   "cell_type": "code",
   "execution_count": 5,
   "metadata": {},
   "outputs": [
    {
     "name": "stdout",
     "output_type": "stream",
     "text": [
      "i: 1\n",
      "Comparing  0  and  0\n",
      "i: 2\n",
      "Comparing  1  and  0\n",
      "i: 3\n",
      "Comparing  1  and  1\n",
      "i: 4\n",
      "Comparing  1  and  1\n",
      "i: 5\n",
      "Comparing  2  and  1\n",
      "i: 6\n",
      "Comparing  2  and  2\n",
      "i: 7\n",
      "Comparing  3  and  2\n",
      "i: 8\n",
      "Comparing  3  and  3\n",
      "i: 9\n",
      "Comparing  4  and  3\n",
      "5\n"
     ]
    }
   ],
   "source": [
    "from typing import List\n",
    "\n",
    "class Solution:\n",
    "    def removeDuplicates(self, nums: List[int]) -> int:\n",
    "        curPos = 1\n",
    "        i = 1\n",
    "        while(i != len(nums)):\n",
    "            print(\"i:\", i)\n",
    "            if(len(nums) < 2):\n",
    "                print(\"returning 1\")\n",
    "                return 1\n",
    "            print(\"Comparing \", nums[i], \" and \", nums[i-1])\n",
    "            if(nums[i] != nums[i-1]):\n",
    "                nums[curPos] = nums[i]\n",
    "                curPos += 1\n",
    "            i += 1\n",
    "        return curPos\n",
    "                \n",
    "\n",
    "solution = Solution()\n",
    "print(solution.removeDuplicates( [0,0,1,1,1,2,2,3,3,4]))"
   ]
  },
  {
   "cell_type": "code",
   "execution_count": null,
   "metadata": {},
   "outputs": [],
   "source": []
  }
 ],
 "metadata": {
  "kernelspec": {
   "display_name": "Python 3",
   "language": "python",
   "name": "python3"
  },
  "language_info": {
   "codemirror_mode": {
    "name": "ipython",
    "version": 3
   },
   "file_extension": ".py",
   "mimetype": "text/x-python",
   "name": "python",
   "nbconvert_exporter": "python",
   "pygments_lexer": "ipython3",
   "version": "3.7.6"
  }
 },
 "nbformat": 4,
 "nbformat_minor": 4
}
