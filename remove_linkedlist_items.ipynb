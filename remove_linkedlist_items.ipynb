{
 "cells": [
  {
   "cell_type": "code",
   "execution_count": null,
   "metadata": {},
   "outputs": [],
   "source": [
    "class ListNode:\n",
    "    def __init__(self, x):\n",
    "        self.val = x\n",
    "        self.next = None\n",
    "\n",
    "class Solution:\n",
    "    def removeElements(self, head: ListNode, val: int) -> ListNode:\n",
    "        dummy_head = ListNode(-1)\n",
    "        dummy_head.next = head\n",
    "        \n",
    "        current_node = dummy_head\n",
    "        prev_node = head\n",
    "        while current_node != None:\n",
    "            if current_node.val == val:\n",
    "                prev_node.next = current_node.next\n",
    "            else:\n",
    "                prev_node = prev_node.next\n",
    "            current_node = current_node.next\n",
    "                \n",
    "        return dummy_head.next\n",
    "#         a_node = ListNode(-1)\n",
    "#         a_node.next = head\n",
    "#         new_head = a_node\n",
    "#         \n",
    "#         while(new_head.next != None):\n",
    "#             print(\"start\", new_head.val)\n",
    "#             if(new_head.next.val == val):\n",
    "#                 print(\"if\")\n",
    "#                 new_head.next = new_head.next.next\n",
    "#             else:\n",
    "#                 print(\"else\")\n",
    "#                 new_head = new_head.next\n",
    "            \n",
    "            \n",
    "#         return a_node\n",
    "\n",
    "                \n",
    "        \n",
    "\n",
    "sol = Solution()\n",
    "node = ListNode(1)\n",
    "node2 = ListNode(2)\n",
    "node3 = ListNode(3)\n",
    "node4 = ListNode(4)\n",
    "node.next = node2\n",
    "node2.next = node3\n",
    "node3.next = node4\n",
    "\n",
    "newn = sol.removeElements(node, 3)\n",
    "while(newn.next != None):\n",
    "    print(newn.val)\n",
    "    newn = newn.next\n"
   ]
  },
  {
   "cell_type": "code",
   "execution_count": null,
   "metadata": {},
   "outputs": [],
   "source": []
  },
  {
   "cell_type": "code",
   "execution_count": null,
   "metadata": {},
   "outputs": [],
   "source": []
  }
 ],
 "metadata": {
  "kernelspec": {
   "display_name": "Python 3",
   "language": "python",
   "name": "python3"
  },
  "language_info": {
   "codemirror_mode": {
    "name": "ipython",
    "version": 3
   },
   "file_extension": ".py",
   "mimetype": "text/x-python",
   "name": "python",
   "nbconvert_exporter": "python",
   "pygments_lexer": "ipython3",
   "version": "3.7.6"
  }
 },
 "nbformat": 4,
 "nbformat_minor": 4
}
